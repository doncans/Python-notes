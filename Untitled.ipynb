{
 "cells": [
  {
   "cell_type": "code",
   "execution_count": 1,
   "metadata": {},
   "outputs": [],
   "source": [
    "#Abstract"
   ]
  },
  {
   "cell_type": "code",
   "execution_count": 20,
   "metadata": {},
   "outputs": [],
   "source": [
    "import abc"
   ]
  },
  {
   "cell_type": "code",
   "execution_count": 21,
   "metadata": {},
   "outputs": [
    {
     "data": {
      "text/plain": [
       "['ABC',\n",
       " 'ABCMeta',\n",
       " '__builtins__',\n",
       " '__cached__',\n",
       " '__doc__',\n",
       " '__file__',\n",
       " '__loader__',\n",
       " '__name__',\n",
       " '__package__',\n",
       " '__spec__',\n",
       " '_abc_init',\n",
       " '_abc_instancecheck',\n",
       " '_abc_register',\n",
       " '_abc_subclasscheck',\n",
       " '_get_dump',\n",
       " '_reset_caches',\n",
       " '_reset_registry',\n",
       " 'abstractclassmethod',\n",
       " 'abstractmethod',\n",
       " 'abstractproperty',\n",
       " 'abstractstaticmethod',\n",
       " 'get_cache_token']"
      ]
     },
     "execution_count": 21,
     "metadata": {},
     "output_type": "execute_result"
    }
   ],
   "source": [
    "dir(abc)"
   ]
  },
  {
   "cell_type": "code",
   "execution_count": 40,
   "metadata": {},
   "outputs": [],
   "source": [
    "from abc import ABC, abstractmethod\n",
    "class Vehicle(ABC):\n",
    "    @abstractmethod\n",
    "    def breaks(self):\n",
    "        pass\n",
    "    def gears(self):\n",
    "        pass\n",
    "    \n",
    "class B(Vehicle):\n",
    "    def breaks(self):\n",
    "        print('Hi Python')"
   ]
  },
  {
   "cell_type": "code",
   "execution_count": 41,
   "metadata": {},
   "outputs": [],
   "source": [
    "obj = B()"
   ]
  },
  {
   "cell_type": "code",
   "execution_count": 42,
   "metadata": {},
   "outputs": [
    {
     "name": "stdout",
     "output_type": "stream",
     "text": [
      "Hi Python\n"
     ]
    }
   ],
   "source": [
    "obj.breaks()"
   ]
  },
  {
   "cell_type": "code",
   "execution_count": 43,
   "metadata": {},
   "outputs": [],
   "source": [
    "obj.gears()"
   ]
  },
  {
   "cell_type": "code",
   "execution_count": 37,
   "metadata": {},
   "outputs": [],
   "source": [
    "obj_b = B()"
   ]
  },
  {
   "cell_type": "code",
   "execution_count": 32,
   "metadata": {},
   "outputs": [],
   "source": [
    "from abc import ABC, abstractmethod\n",
    "class A(ABC):\n",
    "    def meth(self):\n",
    "        pass\n",
    "class B(A):\n",
    "    def meth(self):\n",
    "        print('Hi Python')"
   ]
  },
  {
   "cell_type": "code",
   "execution_count": 34,
   "metadata": {},
   "outputs": [],
   "source": [
    "obj = A()"
   ]
  },
  {
   "cell_type": "code",
   "execution_count": 30,
   "metadata": {},
   "outputs": [
    {
     "ename": "AttributeError",
     "evalue": "'B' object has no attribute '__mro__'",
     "output_type": "error",
     "traceback": [
      "\u001b[1;31m---------------------------------------------------------------------------\u001b[0m",
      "\u001b[1;31mAttributeError\u001b[0m                            Traceback (most recent call last)",
      "\u001b[1;32m<ipython-input-30-75b62568435f>\u001b[0m in \u001b[0;36m<module>\u001b[1;34m\u001b[0m\n\u001b[1;32m----> 1\u001b[1;33m \u001b[0mB\u001b[0m\u001b[1;33m(\u001b[0m\u001b[1;33m)\u001b[0m\u001b[1;33m.\u001b[0m\u001b[0m__mro__\u001b[0m\u001b[1;33m(\u001b[0m\u001b[1;33m)\u001b[0m\u001b[1;33m\u001b[0m\u001b[1;33m\u001b[0m\u001b[0m\n\u001b[0m",
      "\u001b[1;31mAttributeError\u001b[0m: 'B' object has no attribute '__mro__'"
     ]
    }
   ],
   "source": []
  },
  {
   "cell_type": "code",
   "execution_count": 44,
   "metadata": {},
   "outputs": [],
   "source": [
    "#file handling |"
   ]
  },
  {
   "cell_type": "code",
   "execution_count": 45,
   "metadata": {},
   "outputs": [],
   "source": [
    "import os \n",
    "os.mkdir('DEC05')"
   ]
  },
  {
   "cell_type": "code",
   "execution_count": 47,
   "metadata": {},
   "outputs": [],
   "source": [
    "os.rmdir('DEC05')"
   ]
  },
  {
   "cell_type": "code",
   "execution_count": 48,
   "metadata": {},
   "outputs": [
    {
     "data": {
      "text/plain": [
       "'I:\\\\Python-notes'"
      ]
     },
     "execution_count": 48,
     "metadata": {},
     "output_type": "execute_result"
    }
   ],
   "source": [
    "import os\n",
    "os.getcwd()"
   ]
  },
  {
   "cell_type": "code",
   "execution_count": 49,
   "metadata": {},
   "outputs": [],
   "source": [
    "f = open('Assignments.txt', 'r') #r, w, a, b, rw, "
   ]
  },
  {
   "cell_type": "code",
   "execution_count": 50,
   "metadata": {},
   "outputs": [],
   "source": [
    "it = f.read()"
   ]
  },
  {
   "cell_type": "code",
   "execution_count": 51,
   "metadata": {},
   "outputs": [
    {
     "data": {
      "text/plain": [
       "'1)\\nArithmetic Operators\\nTask\\nRead two integers from STDIN and print three lines where:\\n1. The first line contains the sum of the two numbers.\\n2. The second line contains the difference of the two numbers (first - second).\\n3. The third line contains the product of the two numbers.\\nInput Format\\nThe first line contains the first integer, a. The second line contains the second integer, b.\\nConstraints\\n1<=a<=10**10\\n1<=b<=10**10\\nOutput Format\\nPrint the three lines as explained above.\\nSample Input 0\\n32\\nSample Output 0\\n516\\n------------------------------------------------------------\\n2)\\nRead an integer N.\\nWithout using any string methods, try to print the following:123...N\\nNote that \"....\" represents the values in between.\\nInput Format:The first line contains an integer N.\\nOutput Format:Output the answer as explained in the task.\\nSample Input 0\\n3\\nSample Output 0\\n123\\n-----------------------------------------------------------------\\n3)\\nTask\\nGiven an integer, , perform the following conditional actions:\\nIf n is odd, print Weird\\nIf n is even and in the inclusive range of 2 to 5 , print Not Weird\\nIf n is even and in the inclusive range of 6 to 20, print Weird\\nIf n is even and greater than 20, print Not Weird\\nInput Format\\nA single line containing a positive integer,n .\\nConstraints\\n1<=n<=100\\nOutput Format\\nPrint Weird if the number is weird. Otherwise, print Not Weird .\\nSample Input 0\\n3\\nSample Output 0\\nWeird\\n--------------------------------------------------------------------------\\n4)Task\\nRead an integer N . For all non-negative integers i<N, print i**2. See the sample for details.\\nInput Format : The first and only line contains the integer, N.\\nConstraints: 1<=N<=20\\nOutput Format\\nPrint lines N, one corresponding to each i.\\nSample Input 0\\n5\\nSample Output 0\\n0\\n1\\n4\\n9\\n16\\n----------------------------------------------------------\\n5)We add a Leap Day on February 29, almost every four years. The leap day is an extra, or intercalary day\\nand we add it to the shortest month of the year, February.\\nIn the Gregorian calendar three criteria must be taken into account to identify leap years:\\nThe year can be evenly divided by 4, is a leap year, unless:\\nThe year can be evenly divided by 100, it is NOT a leap year, unless:\\nThe year is also evenly divisible by 400. Then it is a leap year.\\nThis means that in the Gregorian calendar, the years 2000 and 2400 are leap years, while 1800, 1900,\\n2100, 2200, 2300 and 2500 are NOT leap years.Source\\nTask\\nYou are given the year, and you have to write a function to check if the year is leap or not.\\nNote that you have to complete the function and remaining code is given as template.\\nInput Format\\nRead y, the year that needs to be checked.\\nConstraints: 1900<=year<=10**5\\nOutput Format\\nOutput is taken care of by the template. Your function must return a boolean value (True/False)\\nSample Input 0\\n1990\\nSample Output 0\\nFalse\\n'"
      ]
     },
     "execution_count": 51,
     "metadata": {},
     "output_type": "execute_result"
    }
   ],
   "source": [
    "it"
   ]
  },
  {
   "cell_type": "code",
   "execution_count": 52,
   "metadata": {},
   "outputs": [
    {
     "data": {
      "text/plain": [
       "str"
      ]
     },
     "execution_count": 52,
     "metadata": {},
     "output_type": "execute_result"
    }
   ],
   "source": [
    "type(it)"
   ]
  },
  {
   "cell_type": "code",
   "execution_count": 53,
   "metadata": {},
   "outputs": [
    {
     "data": {
      "text/plain": [
       "['1',\n",
       " '\\nArithmetic Operators\\nTask\\nRead two integers from STDIN and print three lines where:\\n1. The first line contains the sum of the two numbers.\\n2. The second line contains the difference of the two numbers (first - second',\n",
       " '.\\n3. The third line contains the product of the two numbers.\\nInput Format\\nThe first line contains the first integer, a. The second line contains the second integer, b.\\nConstraints\\n1<=a<=10**10\\n1<=b<=10**10\\nOutput Format\\nPrint the three lines as explained above.\\nSample Input 0\\n32\\nSample Output 0\\n516\\n------------------------------------------------------------\\n2',\n",
       " '\\nRead an integer N.\\nWithout using any string methods, try to print the following:123...N\\nNote that \"....\" represents the values in between.\\nInput Format:The first line contains an integer N.\\nOutput Format:Output the answer as explained in the task.\\nSample Input 0\\n3\\nSample Output 0\\n123\\n-----------------------------------------------------------------\\n3',\n",
       " '\\nTask\\nGiven an integer, , perform the following conditional actions:\\nIf n is odd, print Weird\\nIf n is even and in the inclusive range of 2 to 5 , print Not Weird\\nIf n is even and in the inclusive range of 6 to 20, print Weird\\nIf n is even and greater than 20, print Not Weird\\nInput Format\\nA single line containing a positive integer,n .\\nConstraints\\n1<=n<=100\\nOutput Format\\nPrint Weird if the number is weird. Otherwise, print Not Weird .\\nSample Input 0\\n3\\nSample Output 0\\nWeird\\n--------------------------------------------------------------------------\\n4',\n",
       " 'Task\\nRead an integer N . For all non-negative integers i<N, print i**2. See the sample for details.\\nInput Format : The first and only line contains the integer, N.\\nConstraints: 1<=N<=20\\nOutput Format\\nPrint lines N, one corresponding to each i.\\nSample Input 0\\n5\\nSample Output 0\\n0\\n1\\n4\\n9\\n16\\n----------------------------------------------------------\\n5',\n",
       " 'We add a Leap Day on February 29, almost every four years. The leap day is an extra, or intercalary day\\nand we add it to the shortest month of the year, February.\\nIn the Gregorian calendar three criteria must be taken into account to identify leap years:\\nThe year can be evenly divided by 4, is a leap year, unless:\\nThe year can be evenly divided by 100, it is NOT a leap year, unless:\\nThe year is also evenly divisible by 400. Then it is a leap year.\\nThis means that in the Gregorian calendar, the years 2000 and 2400 are leap years, while 1800, 1900,\\n2100, 2200, 2300 and 2500 are NOT leap years.Source\\nTask\\nYou are given the year, and you have to write a function to check if the year is leap or not.\\nNote that you have to complete the function and remaining code is given as template.\\nInput Format\\nRead y, the year that needs to be checked.\\nConstraints: 1900<=year<=10**5\\nOutput Format\\nOutput is taken care of by the template. Your function must return a boolean value (True/False',\n",
       " '\\nSample Input 0\\n1990\\nSample Output 0\\nFalse\\n']"
      ]
     },
     "execution_count": 53,
     "metadata": {},
     "output_type": "execute_result"
    }
   ],
   "source": [
    "it.split(')')"
   ]
  },
  {
   "cell_type": "code",
   "execution_count": 54,
   "metadata": {},
   "outputs": [
    {
     "data": {
      "text/plain": [
       "['1)',\n",
       " 'Arithmetic Operators',\n",
       " 'Task',\n",
       " 'Read two integers from STDIN and print three lines where:',\n",
       " '1. The first line contains the sum of the two numbers.',\n",
       " '2. The second line contains the difference of the two numbers (first - second).',\n",
       " '3. The third line contains the product of the two numbers.',\n",
       " 'Input Format',\n",
       " 'The first line contains the first integer, a. The second line contains the second integer, b.',\n",
       " 'Constraints',\n",
       " '1<=a<=10**10',\n",
       " '1<=b<=10**10',\n",
       " 'Output Format',\n",
       " 'Print the three lines as explained above.',\n",
       " 'Sample Input 0',\n",
       " '32',\n",
       " 'Sample Output 0',\n",
       " '516',\n",
       " '------------------------------------------------------------',\n",
       " '2)',\n",
       " 'Read an integer N.',\n",
       " 'Without using any string methods, try to print the following:123...N',\n",
       " 'Note that \"....\" represents the values in between.',\n",
       " 'Input Format:The first line contains an integer N.',\n",
       " 'Output Format:Output the answer as explained in the task.',\n",
       " 'Sample Input 0',\n",
       " '3',\n",
       " 'Sample Output 0',\n",
       " '123',\n",
       " '-----------------------------------------------------------------',\n",
       " '3)',\n",
       " 'Task',\n",
       " 'Given an integer, , perform the following conditional actions:',\n",
       " 'If n is odd, print Weird',\n",
       " 'If n is even and in the inclusive range of 2 to 5 , print Not Weird',\n",
       " 'If n is even and in the inclusive range of 6 to 20, print Weird',\n",
       " 'If n is even and greater than 20, print Not Weird',\n",
       " 'Input Format',\n",
       " 'A single line containing a positive integer,n .',\n",
       " 'Constraints',\n",
       " '1<=n<=100',\n",
       " 'Output Format',\n",
       " 'Print Weird if the number is weird. Otherwise, print Not Weird .',\n",
       " 'Sample Input 0',\n",
       " '3',\n",
       " 'Sample Output 0',\n",
       " 'Weird',\n",
       " '--------------------------------------------------------------------------',\n",
       " '4)Task',\n",
       " 'Read an integer N . For all non-negative integers i<N, print i**2. See the sample for details.',\n",
       " 'Input Format : The first and only line contains the integer, N.',\n",
       " 'Constraints: 1<=N<=20',\n",
       " 'Output Format',\n",
       " 'Print lines N, one corresponding to each i.',\n",
       " 'Sample Input 0',\n",
       " '5',\n",
       " 'Sample Output 0',\n",
       " '0',\n",
       " '1',\n",
       " '4',\n",
       " '9',\n",
       " '16',\n",
       " '----------------------------------------------------------',\n",
       " '5)We add a Leap Day on February 29, almost every four years. The leap day is an extra, or intercalary day',\n",
       " 'and we add it to the shortest month of the year, February.',\n",
       " 'In the Gregorian calendar three criteria must be taken into account to identify leap years:',\n",
       " 'The year can be evenly divided by 4, is a leap year, unless:',\n",
       " 'The year can be evenly divided by 100, it is NOT a leap year, unless:',\n",
       " 'The year is also evenly divisible by 400. Then it is a leap year.',\n",
       " 'This means that in the Gregorian calendar, the years 2000 and 2400 are leap years, while 1800, 1900,',\n",
       " '2100, 2200, 2300 and 2500 are NOT leap years.Source',\n",
       " 'Task',\n",
       " 'You are given the year, and you have to write a function to check if the year is leap or not.',\n",
       " 'Note that you have to complete the function and remaining code is given as template.',\n",
       " 'Input Format',\n",
       " 'Read y, the year that needs to be checked.',\n",
       " 'Constraints: 1900<=year<=10**5',\n",
       " 'Output Format',\n",
       " 'Output is taken care of by the template. Your function must return a boolean value (True/False)',\n",
       " 'Sample Input 0',\n",
       " '1990',\n",
       " 'Sample Output 0',\n",
       " 'False',\n",
       " '']"
      ]
     },
     "execution_count": 54,
     "metadata": {},
     "output_type": "execute_result"
    }
   ],
   "source": [
    "it.split('\\n')"
   ]
  },
  {
   "cell_type": "code",
   "execution_count": 56,
   "metadata": {},
   "outputs": [],
   "source": [
    "f.close()"
   ]
  },
  {
   "cell_type": "code",
   "execution_count": null,
   "metadata": {},
   "outputs": [],
   "source": []
  },
  {
   "cell_type": "code",
   "execution_count": 61,
   "metadata": {},
   "outputs": [
    {
     "name": "stdout",
     "output_type": "stream",
     "text": [
      "['1)', 'Arithmetic Operators', 'Task', 'Read two integers from STDIN and print three lines where:', '1. The first line contains the sum of the two numbers.', '2. The second line contains the difference of the two numbers (first - second).', '3. The third line contains the product of the two numbers.', 'Input Format', 'The first line contains the first integer, a. The second line contains the second integer, b.', 'Constraints', '1<=a<=10**10', '1<=b<=10**10', 'Output Format', 'Print the three lines as explained above.', 'Sample Input 0', '32', 'Sample Output 0', '516', '------------------------------------------------------------', '2)', 'Read an integer N.', 'Without using any string methods, try to print the following:123...N', 'Note that \"....\" represents the values in between.', 'Input Format:The first line contains an integer N.', 'Output Format:Output the answer as explained in the task.', 'Sample Input 0', '3', 'Sample Output 0', '123', '-----------------------------------------------------------------', '3)', 'Task', 'Given an integer, , perform the following conditional actions:', 'If n is odd, print Weird', 'If n is even and in the inclusive range of 2 to 5 , print Not Weird', 'If n is even and in the inclusive range of 6 to 20, print Weird', 'If n is even and greater than 20, print Not Weird', 'Input Format', 'A single line containing a positive integer,n .', 'Constraints', '1<=n<=100', 'Output Format', 'Print Weird if the number is weird. Otherwise, print Not Weird .', 'Sample Input 0', '3', 'Sample Output 0', 'Weird', '--------------------------------------------------------------------------', '4)Task', 'Read an integer N . For all non-negative integers i<N, print i**2. See the sample for details.', 'Input Format : The first and only line contains the integer, N.', 'Constraints: 1<=N<=20', 'Output Format', 'Print lines N, one corresponding to each i.', 'Sample Input 0', '5', 'Sample Output 0', '0', '1', '4', '9', '16', '----------------------------------------------------------', '5)We add a Leap Day on February 29, almost every four years. The leap day is an extra, or intercalary day', 'and we add it to the shortest month of the year, February.', 'In the Gregorian calendar three criteria must be taken into account to identify leap years:', 'The year can be evenly divided by 4, is a leap year, unless:', 'The year can be evenly divided by 100, it is NOT a leap year, unless:', 'The year is also evenly divisible by 400. Then it is a leap year.', 'This means that in the Gregorian calendar, the years 2000 and 2400 are leap years, while 1800, 1900,', '2100, 2200, 2300 and 2500 are NOT leap years.Source', 'Task', 'You are given the year, and you have to write a function to check if the year is leap or not.', 'Note that you have to complete the function and remaining code is given as template.', 'Input Format', 'Read y, the year that needs to be checked.', 'Constraints: 1900<=year<=10**5', 'Output Format', 'Output is taken care of by the template. Your function must return a boolean value (True/False)', 'Sample Input 0', '1990', 'Sample Output 0', 'False', '###################################################################3']\n"
     ]
    }
   ],
   "source": [
    "with open('Assignments.txt', 'r') as f:\n",
    "    print((f.read().split('\\n')))\n"
   ]
  },
  {
   "cell_type": "code",
   "execution_count": 66,
   "metadata": {},
   "outputs": [],
   "source": [
    "import requests, urllib"
   ]
  },
  {
   "cell_type": "code",
   "execution_count": 68,
   "metadata": {},
   "outputs": [],
   "source": [
    "html = urllib.request.urlopen('https://www.python.org').read()"
   ]
  },
  {
   "cell_type": "code",
   "execution_count": 74,
   "metadata": {},
   "outputs": [
    {
     "data": {
      "text/plain": [
       "b'<!doctype html>\\n<!--[if lt IE 7]>   <html class=\"no-js ie6 lt-ie7 lt-ie8 lt-ie9\">   <![endif]-->\\n<!--[if IE 7]>      <html class=\"no-js ie7 lt-ie8 lt-ie9\">          <![endif]-->\\n<!--[if IE 8]>      <html class=\"no-js ie8 lt-ie9\">                 <![endif]-->\\n<!--[if gt IE 8]><!--><html class=\"no-js\" lang=\"en\" dir=\"ltr\">  <!--<![endif]-->\\n\\n<head>\\n    <meta charset=\"utf-8\">\\n    <meta http-equiv=\"X-UA-Compatible\" content=\"IE=edge\">\\n\\n    <link rel=\"prefetch\" href=\"//ajax.googleapis.com/ajax/libs/jquery/1.8.2/jquery.min.js\">\\n    <link rel=\"prefetch\" href=\"//ajax.googleapis.com/ajax/libs/jqueryui/1.12.1/jquery-ui.min.js\">\\n\\n    <meta name=\"application-name\" content=\"Python.org\">\\n    <meta name=\"msapplication-tooltip\" content=\"The official home of the Python Programming Language\">\\n    <meta name=\"apple-mobile-web-app-title\" content=\"Python.org\">\\n    <meta name=\"apple-mobile-web-app-capable\" content=\"yes\">\\n    <meta name=\"apple-mobile-web-app-status-bar-style\" content=\"black\">\\n\\n    <meta name=\"viewport\" content=\"width=device-width, initial-scale=1.0\">\\n    <meta name=\"HandheldFriendly\" content=\"True\">\\n    <meta name=\"format-detection\" content=\"telephone=no\">\\n    <meta http-equiv=\"cleartype\" content=\"on\">\\n    <meta http-equiv=\"imagetoolbar\" content=\"false\">\\n\\n    <script src=\"/static/js/libs/modernizr.js\"></script>\\n\\n    <link href=\"/static/stylesheets/style.b50cef9e3bb9.css\" rel=\"stylesheet\" type=\"text/css\" title=\"default\" />\\n    <link href=\"/static/stylesheets/mq.eef77a5d2257.css\" rel=\"stylesheet\" type=\"text/css\" media=\"not print, braille, embossed, speech, tty\" />\\n    \\n\\n    <!--[if (lte IE 8)&(!IEMobile)]>\\n    <link href=\"/static/stylesheets/no-mq.e636abc55522.css\" rel=\"stylesheet\" type=\"text/css\" media=\"screen\" />\\n    \\n    \\n    <![endif]-->\\n    <link rel=\"stylesheet\" href=\"//ajax.googleapis.com/ajax/libs/jqueryui/1.12.1/themes/smoothness/jquery-ui.css\">\\n\\n    \\n    <link rel=\"icon\" type=\"image/x-icon\" href=\"/static/favicon.ico\">\\n    <link rel=\"apple-touch-icon-precomposed\" sizes=\"144x144\" href=\"/static/apple-touch-icon-144x144-precomposed.png\">\\n    <link rel=\"apple-touch-icon-precomposed\" sizes=\"114x114\" href=\"/static/apple-touch-icon-114x114-precomposed.png\">\\n    <link rel=\"apple-touch-icon-precomposed\" sizes=\"72x72\" href=\"/static/apple-touch-icon-72x72-precomposed.png\">\\n    <link rel=\"apple-touch-icon-precomposed\" href=\"/static/apple-touch-icon-precomposed.png\">\\n    <link rel=\"apple-touch-icon\" href=\"/static/apple-touch-icon-precomposed.png\">\\n\\n    \\n    <meta name=\"msapplication-TileImage\" content=\"/static/metro-icon-144x144-precomposed.png\"><!-- white shape -->\\n    <meta name=\"msapplication-TileColor\" content=\"#3673a5\"><!-- python blue -->\\n    <meta name=\"msapplication-navbutton-color\" content=\"#3673a5\">\\n\\n    <title>Welcome to Python.org</title>\\n\\n    <meta name=\"description\" content=\"The official home of the Python Programming Language\">\\n    <meta name=\"keywords\" content=\"Python programming language object oriented web free open source software license documentation download community\">\\n\\n    \\n    <meta property=\"og:type\" content=\"website\">\\n    <meta property=\"og:site_name\" content=\"Python.org\">\\n    <meta property=\"og:title\" content=\"Welcome to Python.org\">\\n    <meta property=\"og:description\" content=\"The official home of the Python Programming Language\">\\n    \\n    <meta property=\"og:image\" content=\"https://www.python.org/static/opengraph-icon-200x200.png\">\\n    <meta property=\"og:image:secure_url\" content=\"https://www.python.org/static/opengraph-icon-200x200.png\">\\n    \\n    <meta property=\"og:url\" content=\"https://www.python.org/\">\\n\\n    <link rel=\"author\" href=\"/static/humans.txt\">\\n\\n    <link rel=\"alternate\" type=\"application/rss+xml\" title=\"Python Enhancement Proposals\"\\n          href=\"https://www.python.org/dev/peps/peps.rss/\">\\n    <link rel=\"alternate\" type=\"application/rss+xml\" title=\"Python Job Opportunities\"\\n          href=\"https://www.python.org/jobs/feed/rss/\">\\n    <link rel=\"alternate\" type=\"application/rss+xml\" title=\"Python Software Foundation News\"\\n          href=\"https://feeds.feedburner.com/PythonSoftwareFoundationNews\">\\n    <link rel=\"alternate\" type=\"application/rss+xml\" title=\"Python Insider\"\\n          href=\"https://feeds.feedburner.com/PythonInsider\">\\n\\n    \\n\\n    \\n    <script type=\"application/ld+json\">\\n     {\\n       \"@context\": \"https://schema.org\",\\n       \"@type\": \"WebSite\",\\n       \"url\": \"https://www.python.org/\",\\n       \"potentialAction\": {\\n         \"@type\": \"SearchAction\",\\n         \"target\": \"https://www.python.org/search/?q={search_term_string}\",\\n         \"query-input\": \"required name=search_term_string\"\\n       }\\n     }\\n    </script>\\n\\n    \\n    <script type=\"text/javascript\">\\n    var _gaq = _gaq || [];\\n    _gaq.push([\\'_setAccount\\', \\'UA-39055973-1\\']);\\n    _gaq.push([\\'_trackPageview\\']);\\n\\n    (function() {\\n        var ga = document.createElement(\\'script\\'); ga.type = \\'text/javascript\\'; ga.async = true;\\n        ga.src = (\\'https:\\' == document.location.protocol ? \\'https://ssl\\' : \\'http://www\\') + \\'.google-analytics.com/ga.js\\';\\n        var s = document.getElementsByTagName(\\'script\\')[0]; s.parentNode.insertBefore(ga, s);\\n    })();\\n    </script>\\n    \\n</head>\\n\\n<body class=\"python home\" id=\"homepage\">\\n\\n    <div id=\"touchnav-wrapper\">\\n\\n        <div id=\"nojs\" class=\"do-not-print\">\\n            <p><strong>Notice:</strong> While Javascript is not essential for this website, your interaction with the content will be limited. Please turn Javascript on for the full experience. </p>\\n        </div>\\n\\n        <!--[if lte IE 8]>\\n        <div id=\"oldie-warning\" class=\"do-not-print\">\\n            <p>\\n                <strong>Notice:</strong> Your browser is <em>ancient</em>. Please\\n                <a href=\"http://browsehappy.com/\">upgrade to a different browser</a> to experience a better web.\\n            </p>\\n        </div>\\n        <![endif]-->\\n\\n        <!-- Sister Site Links -->\\n        <div id=\"top\" class=\"top-bar do-not-print\">\\n\\n            <nav class=\"meta-navigation container\" role=\"navigation\">\\n\\n                \\n                <div class=\"skip-link screen-reader-text\">\\n                    <a href=\"#content\" title=\"Skip to content\">Skip to content</a>\\n                </div>\\n\\n                \\n                <a id=\"close-python-network\" class=\"jump-link\" href=\"#python-network\" aria-hidden=\"true\">\\n                    <span aria-hidden=\"true\" class=\"icon-arrow-down\"><span>&#9660;</span></span> Close\\n                </a>\\n\\n                \\n\\n<ul class=\"menu\" role=\"tree\">\\n    \\n    <li class=\"python-meta current_item selectedcurrent_branch selected\">\\n        <a href=\"/\" title=\"The Python Programming Language\" class=\"current_item selectedcurrent_branch selected\">Python</a>\\n    </li>\\n    \\n    <li class=\"psf-meta \">\\n        <a href=\"/psf-landing/\" title=\"The Python Software Foundation\" >PSF</a>\\n    </li>\\n    \\n    <li class=\"docs-meta \">\\n        <a href=\"https://docs.python.org\" title=\"Python Documentation\" >Docs</a>\\n    </li>\\n    \\n    <li class=\"pypi-meta \">\\n        <a href=\"https://pypi.org/\" title=\"Python Package Index\" >PyPI</a>\\n    </li>\\n    \\n    <li class=\"jobs-meta \">\\n        <a href=\"/jobs/\" title=\"Python Job Board\" >Jobs</a>\\n    </li>\\n    \\n    <li class=\"shop-meta \">\\n        <a href=\"/community-landing/\"  >Community</a>\\n    </li>\\n    \\n</ul>\\n\\n\\n                <a id=\"python-network\" class=\"jump-link\" href=\"#top\" aria-hidden=\"true\">\\n                    <span aria-hidden=\"true\" class=\"icon-arrow-up\"><span>&#9650;</span></span> The Python Network\\n                </a>\\n\\n            </nav>\\n\\n        </div>\\n\\n        <!-- Header elements -->\\n        <header class=\"main-header\" role=\"banner\">\\n            <div class=\"container\">\\n\\n                <h1 class=\"site-headline\">\\n                    <a href=\"/\"><img class=\"python-logo\" src=\"/static/img/python-logo.png\" alt=\"python&trade;\"></a>\\n                </h1>\\n\\n                <div class=\"options-bar-container do-not-print\">\\n                    <a href=\"https://psfmember.org/civicrm/contribute/transact?reset=1&id=2\" class=\"donate-button\">Donate</a>\\n                    <div class=\"options-bar\">\\n                        \\n                        <a id=\"site-map-link\" class=\"jump-to-menu\" href=\"#site-map\"><span class=\"menu-icon\">&equiv;</span> Menu</a><form class=\"search-the-site\" action=\"/search/\" method=\"get\">\\n                            <fieldset title=\"Search Python.org\">\\n\\n                                <span aria-hidden=\"true\" class=\"icon-search\"></span>\\n\\n                                <label class=\"screen-reader-text\" for=\"id-search-field\">Search This Site</label>\\n                                <input id=\"id-search-field\" name=\"q\" type=\"search\" role=\"textbox\" class=\"search-field\" placeholder=\"Search\" value=\"\" tabindex=\"1\">\\n\\n                                <button type=\"submit\" name=\"submit\" id=\"submit\" class=\"search-button\" title=\"Submit this Search\" tabindex=\"3\">\\n                                    GO\\n                                </button>\\n\\n                                \\n                                <!--[if IE]><input type=\"text\" style=\"display: none;\" disabled=\"disabled\" size=\"1\" tabindex=\"4\"><![endif]-->\\n\\n                            </fieldset>\\n                        </form><span class=\"breaker\"></span><div class=\"adjust-font-size\" aria-hidden=\"true\">\\n                            <ul class=\"navigation menu\" aria-label=\"Adjust Text Size on Page\">\\n                                <li class=\"tier-1 last\" aria-haspopup=\"true\">\\n                                    <a href=\"#\" class=\"action-trigger\"><strong><small>A</small> A</strong></a>\\n                                    <ul class=\"subnav menu\">\\n                                        <li class=\"tier-2 element-1\" role=\"treeitem\"><a class=\"text-shrink\" title=\"Make Text Smaller\" href=\"javascript:;\">Smaller</a></li>\\n                                        <li class=\"tier-2 element-2\" role=\"treeitem\"><a class=\"text-grow\" title=\"Make Text Larger\" href=\"javascript:;\">Larger</a></li>\\n                                        <li class=\"tier-2 element-3\" role=\"treeitem\"><a class=\"text-reset\" title=\"Reset any font size changes I have made\" href=\"javascript:;\">Reset</a></li>\\n                                    </ul>\\n                                </li>\\n                            </ul>\\n                        </div><div class=\"winkwink-nudgenudge\">\\n                            <ul class=\"navigation menu\" aria-label=\"Social Media Navigation\">\\n                                <li class=\"tier-1 last\" aria-haspopup=\"true\">\\n                                    <a href=\"#\" class=\"action-trigger\">Socialize</a>\\n                                    <ul class=\"subnav menu\">\\n                                        <li class=\"tier-2 element-1\" role=\"treeitem\"><a href=\"https://www.facebook.com/pythonlang?fref=ts\"><span aria-hidden=\"true\" class=\"icon-facebook\"></span>Facebook</a></li>\\n                                        <li class=\"tier-2 element-2\" role=\"treeitem\"><a href=\"https://twitter.com/ThePSF\"><span aria-hidden=\"true\" class=\"icon-twitter\"></span>Twitter</a></li>\\n                                        <li class=\"tier-2 element-3\" role=\"treeitem\"><a href=\"/community/irc/\"><span aria-hidden=\"true\" class=\"icon-freenode\"></span>Chat on IRC</a></li>\\n                                    </ul>\\n                                </li>\\n                            </ul>\\n                        </div>\\n                        <span data-html-include=\"/authenticated\"></span>\\n                    </div><!-- end options-bar -->\\n                </div>\\n\\n                <nav id=\"mainnav\" class=\"python-navigation main-navigation do-not-print\" role=\"navigation\">\\n                    \\n                        \\n<ul class=\"navigation menu\" role=\"menubar\" aria-label=\"Main Navigation\">\\n  \\n    \\n    \\n    <li id=\"about\" class=\"tier-1 element-1  \" aria-haspopup=\"true\">\\n        <a href=\"/about/\" title=\"\" class=\"\">About</a>\\n        \\n            \\n\\n<ul class=\"subnav menu\" role=\"menu\" aria-hidden=\"true\">\\n    \\n        <li class=\"tier-2 element-1\" role=\"treeitem\"><a href=\"/about/apps/\" title=\"\">Applications</a></li>\\n    \\n        <li class=\"tier-2 element-2\" role=\"treeitem\"><a href=\"/about/quotes/\" title=\"\">Quotes</a></li>\\n    \\n        <li class=\"tier-2 element-3\" role=\"treeitem\"><a href=\"/about/gettingstarted/\" title=\"\">Getting Started</a></li>\\n    \\n        <li class=\"tier-2 element-4\" role=\"treeitem\"><a href=\"/about/help/\" title=\"\">Help</a></li>\\n    \\n        <li class=\"tier-2 element-5\" role=\"treeitem\"><a href=\"http://brochure.getpython.info/\" title=\"\">Python Brochure</a></li>\\n    \\n</ul>\\n\\n        \\n    </li>\\n    \\n    \\n    \\n    <li id=\"downloads\" class=\"tier-1 element-2  \" aria-haspopup=\"true\">\\n        <a href=\"/downloads/\" title=\"\" class=\"\">Downloads</a>\\n        \\n            \\n\\n<ul class=\"subnav menu\" role=\"menu\" aria-hidden=\"true\">\\n    \\n        <li class=\"tier-2 element-1\" role=\"treeitem\"><a href=\"/downloads/\" title=\"\">All releases</a></li>\\n    \\n        <li class=\"tier-2 element-2\" role=\"treeitem\"><a href=\"/downloads/source/\" title=\"\">Source code</a></li>\\n    \\n        <li class=\"tier-2 element-3\" role=\"treeitem\"><a href=\"/downloads/windows/\" title=\"\">Windows</a></li>\\n    \\n        <li class=\"tier-2 element-4\" role=\"treeitem\"><a href=\"/downloads/mac-osx/\" title=\"\">Mac OS X</a></li>\\n    \\n        <li class=\"tier-2 element-5\" role=\"treeitem\"><a href=\"/download/other/\" title=\"\">Other Platforms</a></li>\\n    \\n        <li class=\"tier-2 element-6\" role=\"treeitem\"><a href=\"https://docs.python.org/3/license.html\" title=\"\">License</a></li>\\n    \\n        <li class=\"tier-2 element-7\" role=\"treeitem\"><a href=\"/download/alternatives\" title=\"\">Alternative Implementations</a></li>\\n    \\n</ul>\\n\\n        \\n    </li>\\n    \\n    \\n    \\n    <li id=\"documentation\" class=\"tier-1 element-3  \" aria-haspopup=\"true\">\\n        <a href=\"/doc/\" title=\"\" class=\"\">Documentation</a>\\n        \\n            \\n\\n<ul class=\"subnav menu\" role=\"menu\" aria-hidden=\"true\">\\n    \\n        <li class=\"tier-2 element-1\" role=\"treeitem\"><a href=\"/doc/\" title=\"\">Docs</a></li>\\n    \\n        <li class=\"tier-2 element-2\" role=\"treeitem\"><a href=\"/doc/av\" title=\"\">Audio/Visual Talks</a></li>\\n    \\n        <li class=\"tier-2 element-3\" role=\"treeitem\"><a href=\"https://wiki.python.org/moin/BeginnersGuide\" title=\"\">Beginner&#39;s Guide</a></li>\\n    \\n        <li class=\"tier-2 element-4\" role=\"treeitem\"><a href=\"https://devguide.python.org/\" title=\"\">Developer&#39;s Guide</a></li>\\n    \\n        <li class=\"tier-2 element-5\" role=\"treeitem\"><a href=\"https://docs.python.org/faq/\" title=\"\">FAQ</a></li>\\n    \\n        <li class=\"tier-2 element-6\" role=\"treeitem\"><a href=\"http://wiki.python.org/moin/Languages\" title=\"\">Non-English Docs</a></li>\\n    \\n        <li class=\"tier-2 element-7\" role=\"treeitem\"><a href=\"http://python.org/dev/peps/\" title=\"\">PEP Index</a></li>\\n    \\n        <li class=\"tier-2 element-8\" role=\"treeitem\"><a href=\"https://wiki.python.org/moin/PythonBooks\" title=\"\">Python Books</a></li>\\n    \\n        <li class=\"tier-2 element-9\" role=\"treeitem\"><a href=\"/doc/essays/\" title=\"\">Python Essays</a></li>\\n    \\n</ul>\\n\\n        \\n    </li>\\n    \\n    \\n    \\n    <li id=\"community\" class=\"tier-1 element-4  \" aria-haspopup=\"true\">\\n        <a href=\"/community/\" title=\"\" class=\"\">Community</a>\\n        \\n            \\n\\n<ul class=\"subnav menu\" role=\"menu\" aria-hidden=\"true\">\\n    \\n        <li class=\"tier-2 element-1\" role=\"treeitem\"><a href=\"/community/survey\" title=\"\">Community Survey</a></li>\\n    \\n        <li class=\"tier-2 element-2\" role=\"treeitem\"><a href=\"/community/diversity/\" title=\"\">Diversity</a></li>\\n    \\n        <li class=\"tier-2 element-3\" role=\"treeitem\"><a href=\"/community/lists/\" title=\"\">Mailing Lists</a></li>\\n    \\n        <li class=\"tier-2 element-4\" role=\"treeitem\"><a href=\"/community/irc/\" title=\"\">IRC</a></li>\\n    \\n        <li class=\"tier-2 element-5\" role=\"treeitem\"><a href=\"/community/forums/\" title=\"\">Forums</a></li>\\n    \\n        <li class=\"tier-2 element-6\" role=\"treeitem\"><a href=\"/psf/annual-report/2020/\" title=\"\">PSF Annual Impact Report</a></li>\\n    \\n        <li class=\"tier-2 element-7\" role=\"treeitem\"><a href=\"/community/workshops/\" title=\"\">Python Conferences</a></li>\\n    \\n        <li class=\"tier-2 element-8\" role=\"treeitem\"><a href=\"/community/sigs/\" title=\"\">Special Interest Groups</a></li>\\n    \\n        <li class=\"tier-2 element-9\" role=\"treeitem\"><a href=\"/community/logos/\" title=\"\">Python Logo</a></li>\\n    \\n        <li class=\"tier-2 element-10\" role=\"treeitem\"><a href=\"https://wiki.python.org/moin/\" title=\"\">Python Wiki</a></li>\\n    \\n        <li class=\"tier-2 element-11\" role=\"treeitem\"><a href=\"/community/merchandise/\" title=\"\">Merchandise</a></li>\\n    \\n        <li class=\"tier-2 element-12\" role=\"treeitem\"><a href=\"/community/awards\" title=\"\">Community Awards</a></li>\\n    \\n        <li class=\"tier-2 element-13\" role=\"treeitem\"><a href=\"/psf/conduct/\" title=\"\">Code of Conduct</a></li>\\n    \\n        <li class=\"tier-2 element-14\" role=\"treeitem\"><a href=\"/psf/get-involved/\" title=\"\">Get Involved</a></li>\\n    \\n</ul>\\n\\n        \\n    </li>\\n    \\n    \\n    \\n    <li id=\"success-stories\" class=\"tier-1 element-5  \" aria-haspopup=\"true\">\\n        <a href=\"/success-stories/\" title=\"success-stories\" class=\"\">Success Stories</a>\\n        \\n            \\n\\n<ul class=\"subnav menu\" role=\"menu\" aria-hidden=\"true\">\\n    \\n        <li class=\"tier-2 element-1\" role=\"treeitem\"><a href=\"/success-stories/category/arts/\" title=\"\">Arts</a></li>\\n    \\n        <li class=\"tier-2 element-2\" role=\"treeitem\"><a href=\"/success-stories/category/business/\" title=\"\">Business</a></li>\\n    \\n        <li class=\"tier-2 element-3\" role=\"treeitem\"><a href=\"/success-stories/category/education/\" title=\"\">Education</a></li>\\n    \\n        <li class=\"tier-2 element-4\" role=\"treeitem\"><a href=\"/success-stories/category/engineering/\" title=\"\">Engineering</a></li>\\n    \\n        <li class=\"tier-2 element-5\" role=\"treeitem\"><a href=\"/success-stories/category/government/\" title=\"\">Government</a></li>\\n    \\n        <li class=\"tier-2 element-6\" role=\"treeitem\"><a href=\"/success-stories/category/scientific/\" title=\"\">Scientific</a></li>\\n    \\n        <li class=\"tier-2 element-7\" role=\"treeitem\"><a href=\"/success-stories/category/software-development/\" title=\"\">Software Development</a></li>\\n    \\n</ul>\\n\\n        \\n    </li>\\n    \\n    \\n    \\n    <li id=\"news\" class=\"tier-1 element-6  \" aria-haspopup=\"true\">\\n        <a href=\"/blogs/\" title=\"News from around the Python world\" class=\"\">News</a>\\n        \\n            \\n\\n<ul class=\"subnav menu\" role=\"menu\" aria-hidden=\"true\">\\n    \\n        <li class=\"tier-2 element-1\" role=\"treeitem\"><a href=\"/blogs/\" title=\"Python Insider Blog Posts\">Python News</a></li>\\n    \\n        <li class=\"tier-2 element-2\" role=\"treeitem\"><a href=\"/psf/newsletter/\" title=\"Python Software Foundation Newsletter\">PSF Newsletter</a></li>\\n    \\n        <li class=\"tier-2 element-3\" role=\"treeitem\"><a href=\"http://planetpython.org/\" title=\"Planet Python\">Community News</a></li>\\n    \\n        <li class=\"tier-2 element-4\" role=\"treeitem\"><a href=\"http://pyfound.blogspot.com/\" title=\"PSF Blog\">PSF News</a></li>\\n    \\n        <li class=\"tier-2 element-5\" role=\"treeitem\"><a href=\"http://pycon.blogspot.com/\" title=\"PyCon Blog\">PyCon News</a></li>\\n    \\n</ul>\\n\\n        \\n    </li>\\n    \\n    \\n    \\n    <li id=\"events\" class=\"tier-1 element-7  \" aria-haspopup=\"true\">\\n        <a href=\"/events/\" title=\"\" class=\"\">Events</a>\\n        \\n            \\n\\n<ul class=\"subnav menu\" role=\"menu\" aria-hidden=\"true\">\\n    \\n        <li class=\"tier-2 element-1\" role=\"treeitem\"><a href=\"/events/python-events\" title=\"\">Python Events</a></li>\\n    \\n        <li class=\"tier-2 element-2\" role=\"treeitem\"><a href=\"/events/python-user-group/\" title=\"\">User Group Events</a></li>\\n    \\n        <li class=\"tier-2 element-3\" role=\"treeitem\"><a href=\"/events/python-events/past/\" title=\"\">Python Events Archive</a></li>\\n    \\n        <li class=\"tier-2 element-4\" role=\"treeitem\"><a href=\"/events/python-user-group/past/\" title=\"\">User Group Events Archive</a></li>\\n    \\n        <li class=\"tier-2 element-5\" role=\"treeitem\"><a href=\"https://wiki.python.org/moin/PythonEventsCalendar#Submitting_an_Event\" title=\"\">Submit an Event</a></li>\\n    \\n</ul>\\n\\n        \\n    </li>\\n    \\n    \\n    \\n    \\n  \\n</ul>\\n\\n                    \\n                </nav>\\n\\n                <div class=\"header-banner \"> <!-- for optional \"do-not-print\" class -->\\n                    \\n        <div id=\"dive-into-python\" class=\"flex-slideshow slideshow\">\\n\\n            <ul class=\"launch-shell menu\" id=\"launch-shell\">\\n                <li>\\n                    <a class=\"button prompt\" id=\"start-shell\" data-shell-container=\"#dive-into-python\" href=\"/shell/\">&gt;_\\n                        <span class=\"message\">Launch Interactive Shell</span>\\n                    </a>\\n                </li>\\n            </ul>\\n\\n            <ul class=\"slides menu\">\\n                \\n                <li>\\n                    <div class=\"slide-code\"><pre><code><span class=\"comment\"># Python 3: Fibonacci series up to n</span>\\r\\n>>> def fib(n):\\r\\n>>>     a, b = 0, 1\\r\\n>>>     while a &lt; n:\\r\\n>>>         print(a, end=\\' \\')\\r\\n>>>         a, b = b, a+b\\r\\n>>>     print()\\r\\n>>> fib(1000)\\r\\n<span class=\"output\">0 1 1 2 3 5 8 13 21 34 55 89 144 233 377 610 987</span></code></pre></div>\\n                    <div class=\"slide-copy\"><h1>Functions Defined</h1>\\r\\n<p>The core of extensible programming is defining functions. Python allows mandatory and optional arguments, keyword arguments, and even arbitrary argument lists. <a href=\"//docs.python.org/3/tutorial/controlflow.html#defining-functions\">More about defining functions in Python&nbsp;3</a></p></div>\\n                </li>\\n                \\n                <li>\\n                    <div class=\"slide-code\"><pre><code><span class=\"comment\"># Python 3: List comprehensions</span>\\r\\n>>> fruits = [\\'Banana\\', \\'Apple\\', \\'Lime\\']\\r\\n>>> loud_fruits = [fruit.upper() for fruit in fruits]\\r\\n>>> print(loud_fruits)\\r\\n<span class=\"output\">[\\'BANANA\\', \\'APPLE\\', \\'LIME\\']</span>\\r\\n\\r\\n<span class=\"comment\"># List and the enumerate function</span>\\r\\n>>> list(enumerate(fruits))\\r\\n<span class=\"output\">[(0, \\'Banana\\'), (1, \\'Apple\\'), (2, \\'Lime\\')]</span></code></pre></div>\\n                    <div class=\"slide-copy\"><h1>Compound Data Types</h1>\\r\\n<p>Lists (known as arrays in other languages) are one of the compound data types that Python understands. Lists can be indexed, sliced and manipulated with other built-in functions. <a href=\"//docs.python.org/3/tutorial/introduction.html#lists\">More about lists in Python&nbsp;3</a></p></div>\\n                </li>\\n                \\n                <li>\\n                    <div class=\"slide-code\"><pre><code><span class=\"comment\"># Python 3: Simple arithmetic</span>\\r\\n>>> 1 / 2\\r\\n<span class=\"output\">0.5</span>\\r\\n>>> 2 ** 3\\r\\n<span class=\"output\">8</span>\\r\\n>>> 17 / 3  <span class=\"comment\"># classic division returns a float</span>\\r\\n<span class=\"output\">5.666666666666667</span>\\r\\n>>> 17 // 3  <span class=\"comment\"># floor division</span>\\r\\n<span class=\"output\">5</span></code></pre></div>\\n                    <div class=\"slide-copy\"><h1>Intuitive Interpretation</h1>\\r\\n<p>Calculations are simple with Python, and expression syntax is straightforward: the operators <code>+</code>, <code>-</code>, <code>*</code> and <code>/</code> work as expected; parentheses <code>()</code> can be used for grouping. <a href=\"http://docs.python.org/3/tutorial/introduction.html#using-python-as-a-calculator\">More about simple math functions in Python&nbsp;3</a>.</p></div>\\n                </li>\\n                \\n                <li>\\n                    <div class=\"slide-code\"><pre><code><span class=\"comment\"># Python 3: Simple output (with Unicode)</span>\\r\\n>>> print(\"Hello, I\\'m Python!\")\\r\\n<span class=\"output\">Hello, I\\'m Python!</span>\\r\\n\\r\\n<span class=\"comment\"># Input, assignment</span>\\r\\n>>> name = input(\\'What is your name?\\\\n\\')\\r\\n>>> print(\\'Hi, %s.\\' % name)\\r\\n<span class=\"output\">What is your name?\\r\\nPython\\r\\nHi, Python.</span></code></pre></div>\\n                    <div class=\"slide-copy\"><h1>Quick &amp; Easy to Learn</h1>\\r\\n<p>Experienced programmers in any other language can pick up Python very quickly, and beginners find the clean syntax and indentation structure easy to learn. <a href=\"//docs.python.org/3/tutorial/\">Whet your appetite</a> with our Python&nbsp;3 overview.</p>\\r\\n                   </div>\\n                </li>\\n                \\n                <li>\\n                    <div class=\"slide-code\"><pre><code><span class=\"comment\"># For loop on a list</span>\\r\\n>>> numbers = [2, 4, 6, 8]\\r\\n>>> product = 1\\r\\n>>> for number in numbers:\\r\\n...    product = product * number\\r\\n... \\r\\n>>> print(\\'The product is:\\', product)\\r\\n<span class=\"output\">The product is: 384</span></code></pre></div>\\n                    <div class=\"slide-copy\"><h1>All the Flow You&rsquo;d Expect</h1>\\r\\n<p>Python knows the usual control flow statements that other languages speak &mdash; <code>if</code>, <code>for</code>, <code>while</code> and <code>range</code> &mdash; with some of its own twists, of course. <a href=\"//docs.python.org/3/tutorial/controlflow.html\">More control flow tools in Python&nbsp;3</a></p></div>\\n                </li>\\n                \\n            </ul>\\n        </div>\\n\\n\\n                </div>\\n\\n                \\n        <div class=\"introduction\">\\n            <p>Python is a programming language that lets you work quickly <span class=\"breaker\"></span>and integrate systems more effectively. <a class=\"readmore\" href=\"/doc/\">Learn More</a></p>\\n        </div>\\n\\n\\n             </div><!-- end .container -->\\n        </header>\\n\\n        <div id=\"content\" class=\"content-wrapper\">\\n            <!-- Main Content Column -->\\n            <div class=\"container\">\\n\\n                <section class=\"main-content \" role=\"main\">\\n\\n                    \\n                    \\n\\n                    \\n\\n                    \\n\\n                <div class=\"notification-bar notification-bar--survey\" style=\"background-color: #ffdf76; color: #664e04; border-color: #004d7a; text-align: center; background-color: #004d7a; color: #fff; padding: 10px; margin: .5em; position: relative; width: 95%; background-color: #ffdf76; color: #664e04; border-color: #004d7a; border-radius: 1em;\">\\n  <span class=\"notification-bar__icon\">\\n    <i class=\"fa fa-chart-line\" aria-hidden=\"true\"></i>\\n  </span>\\n  <span class=\"notification-bar__message\">Help us raise $60,000 USD by December 31st! &nbsp;&nbsp;<a class=\"button button--dark button--small button--primary\" style=\"color: #606060; border-color: #006dad; background-color: #006dad;\" href=\"https://www.python.org/psf/donations/2020-q42020-drive/\"  target=\"_blank\" rel=\"noopener\">Building the PSF Q4 Fundraiser</a>\\n   </span>\\n</div>\\n\\n\\n                <div class=\"row\">\\n\\n                    <div class=\"small-widget get-started-widget\">\\n                        <h2 class=\"widget-title\"><span aria-hidden=\"true\" class=\"icon-get-started\"></span>Get Started</h2>\\r\\n<p>Whether you\\'re new to programming or an experienced developer, it\\'s easy to learn and use Python.</p>\\r\\n<p><a href=\"/about/gettingstarted/\">Start with our Beginner&rsquo;s Guide</a></p>\\n                    </div>\\n\\n                    <div class=\"small-widget download-widget\">\\n                        <h2 class=\"widget-title\"><span aria-hidden=\"true\" class=\"icon-download\"></span>Download</h2>\\n<p>Python source code and installers are available for download for all versions!</p>\\n<p>Latest: <a href=\"/downloads/release/python-390/\">Python 3.9.0</a></p>\\n                    </div>\\n\\n                    <div class=\"small-widget documentation-widget\">\\n                        <h2 class=\"widget-title\"><span aria-hidden=\"true\" class=\"icon-documentation\"></span>Docs</h2>\\r\\n<p>Documentation for Python\\'s standard library, along with tutorials and guides, are available online.</p>\\r\\n<p><a href=\"https://docs.python.org\">docs.python.org</a></p>\\n                    </div>\\n\\n                    <div class=\"small-widget jobs-widget last\">\\n                        <h2 class=\"widget-title\"><span aria-hidden=\"true\" class=\"icon-jobs\"></span>Jobs</h2>\\r\\n<p>Looking for work or have a Python related position that you\\'re trying to hire for? Our <strong>relaunched community-run job board</strong> is the place to go.</p>\\r\\n<p><a href=\"//jobs.python.org\">jobs.python.org</a></p>\\n                    </div>\\n\\n                </div>\\n\\n                <div class=\"list-widgets row\">\\n\\n                    <div class=\"medium-widget blog-widget\">\\n                        \\n                        <div class=\"shrubbery\">\\n                        \\n                            <h2 class=\"widget-title\"><span aria-hidden=\"true\" class=\"icon-news\"></span>Latest News</h2>\\n                            <p class=\"give-me-more\"><a href=\"https://blog.python.org\" title=\"More News\">More</a></p>\\n                            \\n                            <ul class=\"menu\">\\n                                \\n                                \\n                                <li>\\n<time datetime=\"2020-12-01T15:46:00.000001+00:00\"><span class=\"say-no-more\">2020-</span>12-01</time>\\n <a href=\"http://feedproxy.google.com/~r/PythonSoftwareFoundationNews/~3/kJNxOgJs0jI/help-psf-raise-60000-usd-by-december.html\">Help the PSF raise $60,000 USD by December 31st!</a></li>\\n                                \\n                                <li>\\n<time datetime=\"2020-11-30T12:53:00+00:00\"><span class=\"say-no-more\">2020-</span>11-30</time>\\n <a href=\"http://feedproxy.google.com/~r/PythonSoftwareFoundationNews/~3/9FGHV2ipjlQ/pip-20-3-new-resolver.html\">Releasing pip 20.3, featuring new dependency resolver</a></li>\\n                                \\n                                <li>\\n<time datetime=\"2020-11-30T12:53:00+00:00\"><span class=\"say-no-more\">2020-</span>11-30</time>\\n <a href=\"http://feedproxy.google.com/~r/PythonInsider/~3/EEnvsGTMFZw/pip-20-3-release-new-resolver.html\">Releasing pip 20.3, featuring new dependency resolver</a></li>\\n                                \\n                                <li>\\n<time datetime=\"2020-11-20T20:48:00.000004+00:00\"><span class=\"say-no-more\">2020-</span>11-20</time>\\n <a href=\"http://feedproxy.google.com/~r/PythonSoftwareFoundationNews/~3/GyAo4JPW_RQ/pypi-receives-aws-credits-for-open.html\">PyPI receives AWS credits for open source projects</a></li>\\n                                \\n                                <li>\\n<time datetime=\"2020-11-11T09:53:00.000002+00:00\"><span class=\"say-no-more\">2020-</span>11-11</time>\\n <a href=\"http://feedproxy.google.com/~r/PythonSoftwareFoundationNews/~3/04NQ7_WSg9A/rami-chowdhury-awarded-psf-community.html\">Rami Chowdhury Awarded the PSF Community Service Award for Q3 2020</a></li>\\n                                \\n                            </ul>\\n                        </div><!-- end .shrubbery -->\\n\\n                    </div>\\n\\n                    <div class=\"medium-widget event-widget last\">\\n                        \\n                        <div class=\"shrubbery\">\\n                        \\n                            <h2 class=\"widget-title\"><span aria-hidden=\"true\" class=\"icon-calendar\"></span>Upcoming Events</h2>\\n                            <p class=\"give-me-more\"><a href=\"/events/calendars/\" title=\"More Events\">More</a></p>\\n                            \\n                            <ul class=\"menu\">\\n                                \\n                                \\n                                \\n                                <li>\\n<time datetime=\"2020-12-11T00:00:00+00:00\"><span class=\"say-no-more\">2020-</span>12-11</time>\\n <a href=\"/events/python-events/996/\">PyCode Conference 2020</a></li>\\n                                \\n                                \\n                                \\n                                <li>\\n<time datetime=\"2020-12-12T06:00:00+00:00\"><span class=\"say-no-more\">2020-</span>12-12</time>\\n <a href=\"/events/python-user-group/993/\">Python Mauritius User Group (PyMUG) - December Meetup</a></li>\\n                                \\n                                \\n                                \\n                                <li>\\n<time datetime=\"2020-12-14T00:00:00+00:00\"><span class=\"say-no-more\">2020-</span>12-14</time>\\n <a href=\"/events/python-events/990/\">PyCon Tanzania 2020</a></li>\\n                                \\n                                \\n                                \\n                                <li>\\n<time datetime=\"2021-01-30T00:00:00+00:00\"><span class=\"say-no-more\">2021-</span>01-30</time>\\n <a href=\"/events/python-events/994/\">BelPy 2021</a></li>\\n                                \\n                                \\n                                \\n                                <li>\\n<time datetime=\"2021-02-19T00:00:00+00:00\"><span class=\"say-no-more\">2021-</span>02-19</time>\\n <a href=\"/events/python-events/997/\">PyCascades 2021</a></li>\\n                                \\n                                \\n                            </ul>\\n                        </div>\\n\\n                    </div>\\n\\n                </div>\\n\\n                <div class=\"row\">\\n\\n                    <div class=\"medium-widget success-stories-widget\">\\n                        \\n\\n\\n\\n                        <div class=\"shrubbery\">\\n                            \\n\\n                            <h2 class=\"widget-title\"><span aria-hidden=\"true\" class=\"icon-success-stories\"></span>Success Stories</h2>\\n                            <p class=\"give-me-more\"><a href=\"/success-stories/\" title=\"More Success Stories\">More</a></p>\\n\\n                            \\n                            <div class=\"success-story-item\" id=\"success-story-838\">\\n\\n                            <blockquote>\\n                                <a href=\"/success-stories/saving-the-world-with-open-data-and-python/\">When an Open Data standard is created and promoted, it\\xe2\\x80\\x99s important to think why - what change is this trying to drive? What will people do with this data that they couldn\\xe2\\x80\\x99t do before?</a>\\n                            </blockquote>\\n\\n                            <table cellpadding=\"0\" cellspacing=\"0\" border=\"0\" width=\"100%\" class=\"quote-from\">\\n                                <tbody>\\n                                    <tr>\\n                                        \\n                                        <td><p><a href=\"/success-stories/saving-the-world-with-open-data-and-python/\">Saving the world with Open Data and Python</a> <em>by James Baster</em></p></td>\\n                                    </tr>\\n                                </tbody>\\n                            </table>\\n                            </div>\\n                            \\n\\n                        </div><!-- end .shrubbery -->\\n\\n                    </div>\\n\\n                    <div class=\"medium-widget applications-widget last\">\\n                        <div class=\"shrubbery\">\\n                            <h2 class=\"widget-title\"><span aria-hidden=\"true\" class=\"icon-python\"></span>Use Python for&hellip;</h2>\\r\\n<p class=\"give-me-more\"><a href=\"/about/apps\" title=\"More Applications\">More</a></p>\\r\\n\\r\\n<ul class=\"menu\">\\r\\n    <li><b>Web Development</b>:\\r\\n        <span class=\"tag-wrapper\"><a class=\"tag\" href=\"http://www.djangoproject.com/\">Django</a>, <a class=\"tag\" href=\"http://www.pylonsproject.org/\">Pyramid</a>, <a class=\"tag\" href=\"http://bottlepy.org\">Bottle</a>, <a class=\"tag\" href=\"http://tornadoweb.org\">Tornado</a>, <a href=\"http://flask.pocoo.org/\" class=\"tag\">Flask</a>, <a class=\"tag\" href=\"http://www.web2py.com/\">web2py</a></span></li>\\r\\n    <li><b>GUI Development</b>:\\r\\n        <span class=\"tag-wrapper\"><a class=\"tag\" href=\"http://wiki.python.org/moin/TkInter\">tkInter</a>, <a class=\"tag\" href=\"https://wiki.gnome.org/Projects/PyGObject\">PyGObject</a>, <a class=\"tag\" href=\"http://www.riverbankcomputing.co.uk/software/pyqt/intro\">PyQt</a>, <a class=\"tag\" href=\"https://wiki.qt.io/PySide\">PySide</a>, <a class=\"tag\" href=\"https://kivy.org/\">Kivy</a>, <a class=\"tag\" href=\"http://www.wxpython.org/\">wxPython</a></span></li>\\r\\n    <li><b>Scientific and Numeric</b>:\\r\\n        <span class=\"tag-wrapper\">\\r\\n<a class=\"tag\" href=\"http://www.scipy.org\">SciPy</a>, <a class=\"tag\" href=\"http://pandas.pydata.org/\">Pandas</a>, <a href=\"http://ipython.org\" class=\"tag\">IPython</a></span></li>\\r\\n    <li><b>Software Development</b>:\\r\\n        <span class=\"tag-wrapper\"><a class=\"tag\" href=\"http://buildbot.net/\">Buildbot</a>, <a class=\"tag\" href=\"http://trac.edgewall.org/\">Trac</a>, <a class=\"tag\" href=\"http://roundup.sourceforge.net/\">Roundup</a></span></li>\\r\\n    <li><b>System Administration</b>:\\r\\n        <span class=\"tag-wrapper\"><a class=\"tag\" href=\"http://www.ansible.com\">Ansible</a>, <a class=\"tag\" href=\"http://www.saltstack.com\">Salt</a>, <a class=\"tag\" href=\"https://www.openstack.org\">OpenStack</a></span></li>\\r\\n</ul>\\r\\n\\n                        </div><!-- end .shrubbery -->\\n                    </div>\\n\\n                </div>\\n\\n                \\n                <div class=\"pep-widget\">\\n\\n                    <h2 class=\"widget-title\">\\n                        <span class=\"prompt\">&gt;&gt;&gt;</span> <a href=\"/dev/peps/\">Python Enhancement Proposals<span class=\"say-no-more\"> (PEPs)</span></a>: The future of Python<span class=\"say-no-more\"> is discussed here.</span>\\n                        <a aria-hidden=\"true\" class=\"rss-link\" href=\"/dev/peps/peps.rss\"><span class=\"icon-feed\"></span> RSS</a>\\n                    </h2>\\n\\n\\n                    \\n                    \\n                </div>\\n\\n                                <div class=\"psf-widget\">\\n\\n                    <div class=\"python-logo\"></div>\\n                    \\n                    <h2 class=\"widget-title\">\\r\\n    <span class=\"prompt\">&gt;&gt;&gt;</span> <a href=\"/psf/\">Python Software Foundation</a>\\r\\n</h2>\\r\\n<p>The mission of the Python Software Foundation is to promote, protect, and advance the Python programming language, and to support and facilitate the growth of a diverse and international community of Python programmers. <a class=\"readmore\" href=\"/psf/\">Learn more</a> </p>\\r\\n<p class=\"click-these\">\\r\\n    <a class=\"button\" href=\"/users/membership/\">Become a Member</a>\\r\\n    <a class=\"button\" href=\"/psf/donations/\">Donate to the PSF</a>\\r\\n</p>\\n                </div>\\n\\n\\n\\n\\n                </section>\\n\\n                \\n                \\n\\n                \\n                \\n\\n\\n            </div><!-- end .container -->\\n        </div><!-- end #content .content-wrapper -->\\n\\n        <!-- Footer and social media list -->\\n        <footer id=\"site-map\" class=\"main-footer\" role=\"contentinfo\">\\n            <div class=\"main-footer-links\">\\n                <div class=\"container\">\\n\\n                    \\n                    <a id=\"back-to-top-1\" class=\"jump-link\" href=\"#python-network\"><span aria-hidden=\"true\" class=\"icon-arrow-up\"><span>&#9650;</span></span> Back to Top</a>\\n\\n                    \\n\\n<ul class=\"sitemap navigation menu do-not-print\" role=\"tree\" id=\"container\">\\n    \\n    <li class=\"tier-1 element-1\">\\n        <a href=\"/about/\" >About</a>\\n        \\n            \\n\\n<ul class=\"subnav menu\">\\n    \\n        <li class=\"tier-2 element-1\" role=\"treeitem\"><a href=\"/about/apps/\" title=\"\">Applications</a></li>\\n    \\n        <li class=\"tier-2 element-2\" role=\"treeitem\"><a href=\"/about/quotes/\" title=\"\">Quotes</a></li>\\n    \\n        <li class=\"tier-2 element-3\" role=\"treeitem\"><a href=\"/about/gettingstarted/\" title=\"\">Getting Started</a></li>\\n    \\n        <li class=\"tier-2 element-4\" role=\"treeitem\"><a href=\"/about/help/\" title=\"\">Help</a></li>\\n    \\n        <li class=\"tier-2 element-5\" role=\"treeitem\"><a href=\"http://brochure.getpython.info/\" title=\"\">Python Brochure</a></li>\\n    \\n</ul>\\n\\n        \\n    </li>\\n    \\n    <li class=\"tier-1 element-2\">\\n        <a href=\"/downloads/\" >Downloads</a>\\n        \\n            \\n\\n<ul class=\"subnav menu\">\\n    \\n        <li class=\"tier-2 element-1\" role=\"treeitem\"><a href=\"/downloads/\" title=\"\">All releases</a></li>\\n    \\n        <li class=\"tier-2 element-2\" role=\"treeitem\"><a href=\"/downloads/source/\" title=\"\">Source code</a></li>\\n    \\n        <li class=\"tier-2 element-3\" role=\"treeitem\"><a href=\"/downloads/windows/\" title=\"\">Windows</a></li>\\n    \\n        <li class=\"tier-2 element-4\" role=\"treeitem\"><a href=\"/downloads/mac-osx/\" title=\"\">Mac OS X</a></li>\\n    \\n        <li class=\"tier-2 element-5\" role=\"treeitem\"><a href=\"/download/other/\" title=\"\">Other Platforms</a></li>\\n    \\n        <li class=\"tier-2 element-6\" role=\"treeitem\"><a href=\"https://docs.python.org/3/license.html\" title=\"\">License</a></li>\\n    \\n        <li class=\"tier-2 element-7\" role=\"treeitem\"><a href=\"/download/alternatives\" title=\"\">Alternative Implementations</a></li>\\n    \\n</ul>\\n\\n        \\n    </li>\\n    \\n    <li class=\"tier-1 element-3\">\\n        <a href=\"/doc/\" >Documentation</a>\\n        \\n            \\n\\n<ul class=\"subnav menu\">\\n    \\n        <li class=\"tier-2 element-1\" role=\"treeitem\"><a href=\"/doc/\" title=\"\">Docs</a></li>\\n    \\n        <li class=\"tier-2 element-2\" role=\"treeitem\"><a href=\"/doc/av\" title=\"\">Audio/Visual Talks</a></li>\\n    \\n        <li class=\"tier-2 element-3\" role=\"treeitem\"><a href=\"https://wiki.python.org/moin/BeginnersGuide\" title=\"\">Beginner&#39;s Guide</a></li>\\n    \\n        <li class=\"tier-2 element-4\" role=\"treeitem\"><a href=\"https://devguide.python.org/\" title=\"\">Developer&#39;s Guide</a></li>\\n    \\n        <li class=\"tier-2 element-5\" role=\"treeitem\"><a href=\"https://docs.python.org/faq/\" title=\"\">FAQ</a></li>\\n    \\n        <li class=\"tier-2 element-6\" role=\"treeitem\"><a href=\"http://wiki.python.org/moin/Languages\" title=\"\">Non-English Docs</a></li>\\n    \\n        <li class=\"tier-2 element-7\" role=\"treeitem\"><a href=\"http://python.org/dev/peps/\" title=\"\">PEP Index</a></li>\\n    \\n        <li class=\"tier-2 element-8\" role=\"treeitem\"><a href=\"https://wiki.python.org/moin/PythonBooks\" title=\"\">Python Books</a></li>\\n    \\n        <li class=\"tier-2 element-9\" role=\"treeitem\"><a href=\"/doc/essays/\" title=\"\">Python Essays</a></li>\\n    \\n</ul>\\n\\n        \\n    </li>\\n    \\n    <li class=\"tier-1 element-4\">\\n        <a href=\"/community/\" >Community</a>\\n        \\n            \\n\\n<ul class=\"subnav menu\">\\n    \\n        <li class=\"tier-2 element-1\" role=\"treeitem\"><a href=\"/community/survey\" title=\"\">Community Survey</a></li>\\n    \\n        <li class=\"tier-2 element-2\" role=\"treeitem\"><a href=\"/community/diversity/\" title=\"\">Diversity</a></li>\\n    \\n        <li class=\"tier-2 element-3\" role=\"treeitem\"><a href=\"/community/lists/\" title=\"\">Mailing Lists</a></li>\\n    \\n        <li class=\"tier-2 element-4\" role=\"treeitem\"><a href=\"/community/irc/\" title=\"\">IRC</a></li>\\n    \\n        <li class=\"tier-2 element-5\" role=\"treeitem\"><a href=\"/community/forums/\" title=\"\">Forums</a></li>\\n    \\n        <li class=\"tier-2 element-6\" role=\"treeitem\"><a href=\"/psf/annual-report/2020/\" title=\"\">PSF Annual Impact Report</a></li>\\n    \\n        <li class=\"tier-2 element-7\" role=\"treeitem\"><a href=\"/community/workshops/\" title=\"\">Python Conferences</a></li>\\n    \\n        <li class=\"tier-2 element-8\" role=\"treeitem\"><a href=\"/community/sigs/\" title=\"\">Special Interest Groups</a></li>\\n    \\n        <li class=\"tier-2 element-9\" role=\"treeitem\"><a href=\"/community/logos/\" title=\"\">Python Logo</a></li>\\n    \\n        <li class=\"tier-2 element-10\" role=\"treeitem\"><a href=\"https://wiki.python.org/moin/\" title=\"\">Python Wiki</a></li>\\n    \\n        <li class=\"tier-2 element-11\" role=\"treeitem\"><a href=\"/community/merchandise/\" title=\"\">Merchandise</a></li>\\n    \\n        <li class=\"tier-2 element-12\" role=\"treeitem\"><a href=\"/community/awards\" title=\"\">Community Awards</a></li>\\n    \\n        <li class=\"tier-2 element-13\" role=\"treeitem\"><a href=\"/psf/conduct/\" title=\"\">Code of Conduct</a></li>\\n    \\n        <li class=\"tier-2 element-14\" role=\"treeitem\"><a href=\"/psf/get-involved/\" title=\"\">Get Involved</a></li>\\n    \\n</ul>\\n\\n        \\n    </li>\\n    \\n    <li class=\"tier-1 element-5\">\\n        <a href=\"/success-stories/\" title=\"success-stories\">Success Stories</a>\\n        \\n            \\n\\n<ul class=\"subnav menu\">\\n    \\n        <li class=\"tier-2 element-1\" role=\"treeitem\"><a href=\"/success-stories/category/arts/\" title=\"\">Arts</a></li>\\n    \\n        <li class=\"tier-2 element-2\" role=\"treeitem\"><a href=\"/success-stories/category/business/\" title=\"\">Business</a></li>\\n    \\n        <li class=\"tier-2 element-3\" role=\"treeitem\"><a href=\"/success-stories/category/education/\" title=\"\">Education</a></li>\\n    \\n        <li class=\"tier-2 element-4\" role=\"treeitem\"><a href=\"/success-stories/category/engineering/\" title=\"\">Engineering</a></li>\\n    \\n        <li class=\"tier-2 element-5\" role=\"treeitem\"><a href=\"/success-stories/category/government/\" title=\"\">Government</a></li>\\n    \\n        <li class=\"tier-2 element-6\" role=\"treeitem\"><a href=\"/success-stories/category/scientific/\" title=\"\">Scientific</a></li>\\n    \\n        <li class=\"tier-2 element-7\" role=\"treeitem\"><a href=\"/success-stories/category/software-development/\" title=\"\">Software Development</a></li>\\n    \\n</ul>\\n\\n        \\n    </li>\\n    \\n    <li class=\"tier-1 element-6\">\\n        <a href=\"/blogs/\" title=\"News from around the Python world\">News</a>\\n        \\n            \\n\\n<ul class=\"subnav menu\">\\n    \\n        <li class=\"tier-2 element-1\" role=\"treeitem\"><a href=\"/blogs/\" title=\"Python Insider Blog Posts\">Python News</a></li>\\n    \\n        <li class=\"tier-2 element-2\" role=\"treeitem\"><a href=\"/psf/newsletter/\" title=\"Python Software Foundation Newsletter\">PSF Newsletter</a></li>\\n    \\n        <li class=\"tier-2 element-3\" role=\"treeitem\"><a href=\"http://planetpython.org/\" title=\"Planet Python\">Community News</a></li>\\n    \\n        <li class=\"tier-2 element-4\" role=\"treeitem\"><a href=\"http://pyfound.blogspot.com/\" title=\"PSF Blog\">PSF News</a></li>\\n    \\n        <li class=\"tier-2 element-5\" role=\"treeitem\"><a href=\"http://pycon.blogspot.com/\" title=\"PyCon Blog\">PyCon News</a></li>\\n    \\n</ul>\\n\\n        \\n    </li>\\n    \\n    <li class=\"tier-1 element-7\">\\n        <a href=\"/events/\" >Events</a>\\n        \\n            \\n\\n<ul class=\"subnav menu\">\\n    \\n        <li class=\"tier-2 element-1\" role=\"treeitem\"><a href=\"/events/python-events\" title=\"\">Python Events</a></li>\\n    \\n        <li class=\"tier-2 element-2\" role=\"treeitem\"><a href=\"/events/python-user-group/\" title=\"\">User Group Events</a></li>\\n    \\n        <li class=\"tier-2 element-3\" role=\"treeitem\"><a href=\"/events/python-events/past/\" title=\"\">Python Events Archive</a></li>\\n    \\n        <li class=\"tier-2 element-4\" role=\"treeitem\"><a href=\"/events/python-user-group/past/\" title=\"\">User Group Events Archive</a></li>\\n    \\n        <li class=\"tier-2 element-5\" role=\"treeitem\"><a href=\"https://wiki.python.org/moin/PythonEventsCalendar#Submitting_an_Event\" title=\"\">Submit an Event</a></li>\\n    \\n</ul>\\n\\n        \\n    </li>\\n    \\n    <li class=\"tier-1 element-8\">\\n        <a href=\"/dev/\" >Contributing</a>\\n        \\n            \\n\\n<ul class=\"subnav menu\">\\n    \\n        <li class=\"tier-2 element-1\" role=\"treeitem\"><a href=\"https://devguide.python.org/\" title=\"\">Developer&#39;s Guide</a></li>\\n    \\n        <li class=\"tier-2 element-2\" role=\"treeitem\"><a href=\"https://bugs.python.org/\" title=\"\">Issue Tracker</a></li>\\n    \\n        <li class=\"tier-2 element-3\" role=\"treeitem\"><a href=\"https://mail.python.org/mailman/listinfo/python-dev\" title=\"\">python-dev list</a></li>\\n    \\n        <li class=\"tier-2 element-4\" role=\"treeitem\"><a href=\"/dev/core-mentorship/\" title=\"\">Core Mentorship</a></li>\\n    \\n        <li class=\"tier-2 element-5\" role=\"treeitem\"><a href=\"/dev/security/\" title=\"\">Report a Security Issue</a></li>\\n    \\n</ul>\\n\\n        \\n    </li>\\n    \\n</ul>\\n\\n\\n                    <a id=\"back-to-top-2\" class=\"jump-link\" href=\"#python-network\"><span aria-hidden=\"true\" class=\"icon-arrow-up\"><span>&#9650;</span></span> Back to Top</a>\\n                    \\n\\n                </div><!-- end .container -->\\n            </div> <!-- end .main-footer-links -->\\n\\n            <div class=\"site-base\">\\n                <div class=\"container\">\\n                    \\n                    <ul class=\"footer-links navigation menu do-not-print\" role=\"tree\">\\n                        <li class=\"tier-1 element-1\"><a href=\"/about/help/\">Help &amp; <span class=\"say-no-more\">General</span> Contact</a></li>\\n                        <li class=\"tier-1 element-2\"><a href=\"/community/diversity/\">Diversity <span class=\"say-no-more\">Initiatives</span></a></li>\\n                        <li class=\"tier-1 element-3\"><a href=\"https://github.com/python/pythondotorg/issues\">Submit Website Bug</a></li>\\n                        <li class=\"tier-1 element-4\">\\n                            <a href=\"https://status.python.org/\">Status <span class=\"python-status-indicator-default\" id=\"python-status-indicator\"></span></a>\\n                        </li>\\n                    </ul>\\n\\n                    <div class=\"copyright\">\\n                        <p><small>\\n                            <span class=\"pre\">Copyright &copy;2001-2020.</span>\\n                            &nbsp;<span class=\"pre\"><a href=\"/psf-landing/\">Python Software Foundation</a></span>\\n                            &nbsp;<span class=\"pre\"><a href=\"/about/legal/\">Legal Statements</a></span>\\n                            &nbsp;<span class=\"pre\"><a href=\"/privacy/\">Privacy Policy</a></span>\\n                            &nbsp;<span class=\"pre\"><a href=\"/psf/sponsorship/sponsors/#heroku\">Powered by Heroku</a></span>\\n                        </small></p>\\n                    </div>\\n\\n                </div><!-- end .container -->\\n            </div><!-- end .site-base -->\\n\\n        </footer>\\n\\n    </div><!-- end #touchnav-wrapper -->\\n\\n    \\n    <script src=\"//ajax.googleapis.com/ajax/libs/jquery/1.8.2/jquery.min.js\"></script>\\n    <script>window.jQuery || document.write(\\'<script src=\"/static/js/libs/jquery-1.8.2.min.js\"><\\\\/script>\\')</script>\\n    <script src=\"//ajax.googleapis.com/ajax/libs/jqueryui/1.12.1/jquery-ui.min.js\"></script>\\n    <script>window.jQuery || document.write(\\'<script src=\"/static/js/libs/jquery-ui-1.12.1.min.js\"><\\\\/script>\\')</script>\\n\\n    <script src=\"/static/js/libs/masonry.pkgd.min.js\"></script>\\n    <script src=\"/static/js/libs/html-includes.js\"></script>\\n\\n    <script type=\"text/javascript\" src=\"/static/js/main-min.d5f95c9c5614.js\" charset=\"utf-8\"></script>\\n    \\n\\n    <!--[if lte IE 7]>\\n    <script type=\"text/javascript\" src=\"/static/js/plugins/IE8-min.70e1ade2a96e.js\" charset=\"utf-8\"></script>\\n    \\n    \\n    <![endif]-->\\n\\n    <!--[if lte IE 8]>\\n    <script type=\"text/javascript\" src=\"/static/js/plugins/getComputedStyle-min.c3860be1d290.js\" charset=\"utf-8\"></script>\\n    \\n    \\n    <![endif]-->\\n\\n    \\n\\n    \\n    \\n\\n</body>\\n</html>\\n'"
      ]
     },
     "execution_count": 74,
     "metadata": {},
     "output_type": "execute_result"
    }
   ],
   "source": [
    "html"
   ]
  },
  {
   "cell_type": "code",
   "execution_count": 69,
   "metadata": {},
   "outputs": [
    {
     "name": "stdout",
     "output_type": "stream",
     "text": [
      "Collecting beautifulsoup4\n",
      "  Downloading beautifulsoup4-4.9.3-py3-none-any.whl (115 kB)\n",
      "Collecting soupsieve>1.2; python_version >= \"3.0\"\n",
      "  Using cached soupsieve-2.0.1-py3-none-any.whl (32 kB)\n",
      "Installing collected packages: soupsieve, beautifulsoup4\n",
      "Successfully installed beautifulsoup4-4.9.3 soupsieve-2.0.1\n"
     ]
    },
    {
     "name": "stderr",
     "output_type": "stream",
     "text": [
      "WARNING: You are using pip version 20.2.3; however, version 20.3.1 is available.\n",
      "You should consider upgrading via the 'c:\\users\\donke\\appdata\\local\\programs\\python\\python37\\python.exe -m pip install --upgrade pip' command.\n"
     ]
    }
   ],
   "source": [
    "!pip install beautifulsoup4"
   ]
  },
  {
   "cell_type": "code",
   "execution_count": 71,
   "metadata": {},
   "outputs": [],
   "source": [
    "from bs4 import BeautifulSoup"
   ]
  },
  {
   "cell_type": "code",
   "execution_count": 72,
   "metadata": {},
   "outputs": [],
   "source": [
    "data = BeautifulSoup(html)"
   ]
  },
  {
   "cell_type": "code",
   "execution_count": 73,
   "metadata": {},
   "outputs": [
    {
     "data": {
      "text/plain": [
       "'\\n\\n\\n\\n \\n\\n\\n\\n\\n\\n\\n\\n\\n\\n\\n\\n\\n\\n\\n\\n\\n\\n\\n\\n\\n\\n\\n\\n\\n\\n\\n\\n\\n\\nWelcome to Python.org\\n\\n\\n\\n\\n\\n\\n\\n\\n\\n\\n\\n\\n\\n\\n\\n\\n\\n\\n\\n\\nNotice: While Javascript is not essential for this website, your interaction with the content will be limited. Please turn Javascript on for the full experience. \\n\\n\\n\\n\\n\\n\\nSkip to content\\n\\n\\n▼ Close\\n                \\n\\n\\nPython\\n\\n\\nPSF\\n\\n\\nDocs\\n\\n\\nPyPI\\n\\n\\nJobs\\n\\n\\nCommunity\\n\\n\\n\\n▲ The Python Network\\n                \\n\\n\\n\\n\\n\\n\\n\\n\\n\\nDonate\\n\\n≡ Menu\\n\\n\\nSearch This Site\\n\\n\\n                                    GO\\n                                \\n\\n\\n\\n\\n\\nA A\\n\\nSmaller\\nLarger\\nReset\\n\\n\\n\\n\\n\\n\\nSocialize\\n\\nFacebook\\nTwitter\\nChat on IRC\\n\\n\\n\\n\\n\\n\\n\\n\\n\\n\\nAbout\\n\\nApplications\\nQuotes\\nGetting Started\\nHelp\\nPython Brochure\\n\\n\\n\\nDownloads\\n\\nAll releases\\nSource code\\nWindows\\nMac OS X\\nOther Platforms\\nLicense\\nAlternative Implementations\\n\\n\\n\\nDocumentation\\n\\nDocs\\nAudio/Visual Talks\\nBeginner\\'s Guide\\nDeveloper\\'s Guide\\nFAQ\\nNon-English Docs\\nPEP Index\\nPython Books\\nPython Essays\\n\\n\\n\\nCommunity\\n\\nCommunity Survey\\nDiversity\\nMailing Lists\\nIRC\\nForums\\nPSF Annual Impact Report\\nPython Conferences\\nSpecial Interest Groups\\nPython Logo\\nPython Wiki\\nMerchandise\\nCommunity Awards\\nCode of Conduct\\nGet Involved\\n\\n\\n\\nSuccess Stories\\n\\nArts\\nBusiness\\nEducation\\nEngineering\\nGovernment\\nScientific\\nSoftware Development\\n\\n\\n\\nNews\\n\\nPython News\\nPSF Newsletter\\nCommunity News\\nPSF News\\nPyCon News\\n\\n\\n\\nEvents\\n\\nPython Events\\nUser Group Events\\nPython Events Archive\\nUser Group Events Archive\\nSubmit an Event\\n\\n\\n\\n\\n \\n\\n\\n\\n>_\\n                        Launch Interactive Shell\\n\\n\\n\\n\\n\\n# Python 3: Fibonacci series up to n\\r\\n>>> def fib(n):\\r\\n>>>     a, b = 0, 1\\r\\n>>>     while a < n:\\r\\n>>>         print(a, end=\\' \\')\\r\\n>>>         a, b = b, a+b\\r\\n>>>     print()\\r\\n>>> fib(1000)\\r\\n0 1 1 2 3 5 8 13 21 34 55 89 144 233 377 610 987\\nFunctions Defined\\nThe core of extensible programming is defining functions. Python allows mandatory and optional arguments, keyword arguments, and even arbitrary argument lists. More about defining functions in Python\\xa03\\n\\n\\n# Python 3: List comprehensions\\r\\n>>> fruits = [\\'Banana\\', \\'Apple\\', \\'Lime\\']\\r\\n>>> loud_fruits = [fruit.upper() for fruit in fruits]\\r\\n>>> print(loud_fruits)\\r\\n[\\'BANANA\\', \\'APPLE\\', \\'LIME\\']\\r\\n\\r\\n# List and the enumerate function\\r\\n>>> list(enumerate(fruits))\\r\\n[(0, \\'Banana\\'), (1, \\'Apple\\'), (2, \\'Lime\\')]\\nCompound Data Types\\nLists (known as arrays in other languages) are one of the compound data types that Python understands. Lists can be indexed, sliced and manipulated with other built-in functions. More about lists in Python\\xa03\\n\\n\\n# Python 3: Simple arithmetic\\r\\n>>> 1 / 2\\r\\n0.5\\r\\n>>> 2 ** 3\\r\\n8\\r\\n>>> 17 / 3  # classic division returns a float\\r\\n5.666666666666667\\r\\n>>> 17 // 3  # floor division\\r\\n5\\nIntuitive Interpretation\\nCalculations are simple with Python, and expression syntax is straightforward: the operators +, -, * and / work as expected; parentheses () can be used for grouping. More about simple math functions in Python\\xa03.\\n\\n\\n# Python 3: Simple output (with Unicode)\\r\\n>>> print(\"Hello, I\\'m Python!\")\\r\\nHello, I\\'m Python!\\r\\n\\r\\n# Input, assignment\\r\\n>>> name = input(\\'What is your name?\\\\n\\')\\r\\n>>> print(\\'Hi, %s.\\' % name)\\r\\nWhat is your name?\\r\\nPython\\r\\nHi, Python.\\nQuick & Easy to Learn\\nExperienced programmers in any other language can pick up Python very quickly, and beginners find the clean syntax and indentation structure easy to learn. Whet your appetite with our Python\\xa03 overview.\\n\\n\\n\\n# For loop on a list\\r\\n>>> numbers = [2, 4, 6, 8]\\r\\n>>> product = 1\\r\\n>>> for number in numbers:\\r\\n...    product = product * number\\r\\n... \\r\\n>>> print(\\'The product is:\\', product)\\r\\nThe product is: 384\\nAll the Flow You’d Expect\\nPython knows the usual control flow statements that other languages speak — if, for, while and range — with some of its own twists, of course. More control flow tools in Python\\xa03\\n\\n\\n\\n\\n\\nPython is a programming language that lets you work quickly and integrate systems more effectively. Learn More\\n\\n\\n\\n\\n\\n\\n\\n\\n\\n\\n\\nHelp us raise $60,000 USD by December 31st! \\xa0\\xa0Building the PSF Q4 Fundraiser\\n\\n\\n\\n\\nGet Started\\nWhether you\\'re new to programming or an experienced developer, it\\'s easy to learn and use Python.\\nStart with our Beginner’s Guide\\n\\n\\nDownload\\nPython source code and installers are available for download for all versions!\\nLatest: Python 3.9.0\\n\\n\\nDocs\\nDocumentation for Python\\'s standard library, along with tutorials and guides, are available online.\\ndocs.python.org\\n\\n\\nJobs\\nLooking for work or have a Python related position that you\\'re trying to hire for? Our relaunched community-run job board is the place to go.\\njobs.python.org\\n\\n\\n\\n\\n\\nLatest News\\nMore\\n\\n\\n2020-12-01\\nHelp the PSF raise $60,000 USD by December 31st!\\n\\n2020-11-30\\nReleasing pip 20.3, featuring new dependency resolver\\n\\n2020-11-30\\nReleasing pip 20.3, featuring new dependency resolver\\n\\n2020-11-20\\nPyPI receives AWS credits for open source projects\\n\\n2020-11-11\\nRami Chowdhury Awarded the PSF Community Service Award for Q3 2020\\n\\n\\n\\n\\n\\nUpcoming Events\\nMore\\n\\n\\n2020-12-11\\nPyCode Conference 2020\\n\\n2020-12-12\\nPython Mauritius User Group (PyMUG) - December Meetup\\n\\n2020-12-14\\nPyCon Tanzania 2020\\n\\n2021-01-30\\nBelPy 2021\\n\\n2021-02-19\\nPyCascades 2021\\n\\n\\n\\n\\n\\n\\n\\nSuccess Stories\\nMore\\n\\n\\nWhen an Open Data standard is created and promoted, it’s important to think why - what change is this trying to drive? What will people do with this data that they couldn’t do before?\\n\\n\\n\\n\\nSaving the world with Open Data and Python by James Baster\\n\\n\\n\\n\\n\\n\\n\\n\\nUse Python for…\\nMore\\n\\nWeb Development:\\r\\n        Django, Pyramid, Bottle, Tornado, Flask, web2py\\nGUI Development:\\r\\n        tkInter, PyGObject, PyQt, PySide, Kivy, wxPython\\nScientific and Numeric:\\r\\n        \\nSciPy, Pandas, IPython\\nSoftware Development:\\r\\n        Buildbot, Trac, Roundup\\nSystem Administration:\\r\\n        Ansible, Salt, OpenStack\\n\\n\\n\\n\\n\\n\\n>>> Python Enhancement Proposals (PEPs): The future of Python is discussed here.\\n RSS\\n\\n\\n\\n\\n\\n>>> Python Software Foundation\\n\\nThe mission of the Python Software Foundation is to promote, protect, and advance the Python programming language, and to support and facilitate the growth of a diverse and international community of Python programmers. Learn more \\n\\nBecome a Member\\nDonate to the PSF\\n\\n\\n\\n\\n\\n\\n\\n\\n\\n▲ Back to Top\\n\\n\\nAbout\\n\\nApplications\\nQuotes\\nGetting Started\\nHelp\\nPython Brochure\\n\\n\\n\\nDownloads\\n\\nAll releases\\nSource code\\nWindows\\nMac OS X\\nOther Platforms\\nLicense\\nAlternative Implementations\\n\\n\\n\\nDocumentation\\n\\nDocs\\nAudio/Visual Talks\\nBeginner\\'s Guide\\nDeveloper\\'s Guide\\nFAQ\\nNon-English Docs\\nPEP Index\\nPython Books\\nPython Essays\\n\\n\\n\\nCommunity\\n\\nCommunity Survey\\nDiversity\\nMailing Lists\\nIRC\\nForums\\nPSF Annual Impact Report\\nPython Conferences\\nSpecial Interest Groups\\nPython Logo\\nPython Wiki\\nMerchandise\\nCommunity Awards\\nCode of Conduct\\nGet Involved\\n\\n\\n\\nSuccess Stories\\n\\nArts\\nBusiness\\nEducation\\nEngineering\\nGovernment\\nScientific\\nSoftware Development\\n\\n\\n\\nNews\\n\\nPython News\\nPSF Newsletter\\nCommunity News\\nPSF News\\nPyCon News\\n\\n\\n\\nEvents\\n\\nPython Events\\nUser Group Events\\nPython Events Archive\\nUser Group Events Archive\\nSubmit an Event\\n\\n\\n\\nContributing\\n\\nDeveloper\\'s Guide\\nIssue Tracker\\npython-dev list\\nCore Mentorship\\nReport a Security Issue\\n\\n\\n\\n▲ Back to Top\\n\\n \\n\\n\\n\\nHelp & General Contact\\nDiversity Initiatives\\nSubmit Website Bug\\n\\nStatus \\n\\n\\n\\n\\nCopyright ©2001-2020.\\n                            \\xa0Python Software Foundation\\n                            \\xa0Legal Statements\\n                            \\xa0Privacy Policy\\n                            \\xa0Powered by Heroku\\n\\n\\n\\n\\n\\n\\n\\n\\n\\n\\n\\n\\n\\n\\n\\n\\n\\n'"
      ]
     },
     "execution_count": 73,
     "metadata": {},
     "output_type": "execute_result"
    }
   ],
   "source": [
    "data.get_text()"
   ]
  },
  {
   "cell_type": "code",
   "execution_count": null,
   "metadata": {},
   "outputs": [],
   "source": []
  }
 ],
 "metadata": {
  "kernelspec": {
   "display_name": "Python 3",
   "language": "python",
   "name": "python3"
  },
  "language_info": {
   "codemirror_mode": {
    "name": "ipython",
    "version": 3
   },
   "file_extension": ".py",
   "mimetype": "text/x-python",
   "name": "python",
   "nbconvert_exporter": "python",
   "pygments_lexer": "ipython3",
   "version": "3.7.9"
  }
 },
 "nbformat": 4,
 "nbformat_minor": 4
}
