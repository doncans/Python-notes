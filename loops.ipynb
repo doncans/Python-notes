{
 "cells": [
  {
   "cell_type": "code",
   "execution_count": 1,
   "metadata": {},
   "outputs": [],
   "source": [
    "str1 = \"This is python\""
   ]
  },
  {
   "cell_type": "code",
   "execution_count": 2,
   "metadata": {},
   "outputs": [
    {
     "data": {
      "text/plain": [
       "14"
      ]
     },
     "execution_count": 2,
     "metadata": {},
     "output_type": "execute_result"
    }
   ],
   "source": [
    "len(str1)"
   ]
  },
  {
   "cell_type": "code",
   "execution_count": 6,
   "metadata": {},
   "outputs": [
    {
     "name": "stdout",
     "output_type": "stream",
     "text": [
      "iteration  T\n",
      "iteration  h\n",
      "iteration  i\n",
      "iteration  s\n",
      "iteration   \n",
      "iteration  i\n",
      "iteration  s\n",
      "iteration   \n",
      "iteration  p\n",
      "iteration  y\n",
      "iteration  t\n",
      "iteration  h\n",
      "iteration  o\n",
      "iteration  n\n"
     ]
    }
   ],
   "source": [
    "for i in str1:print(\"iteration  %s\"%i)"
   ]
  },
  {
   "cell_type": "code",
   "execution_count": 7,
   "metadata": {},
   "outputs": [
    {
     "name": "stdout",
     "output_type": "stream",
     "text": [
      "iterations 0\n",
      "iterations 1\n",
      "iterations 2\n",
      "iterations 3\n",
      "iterations 4\n",
      "iterations 5\n",
      "iterations 6\n",
      "iterations 7\n",
      "iterations 8\n"
     ]
    }
   ],
   "source": [
    "for i in range(0,9):print(\"iterations %i\"%i)"
   ]
  },
  {
   "cell_type": "code",
   "execution_count": 8,
   "metadata": {},
   "outputs": [
    {
     "data": {
      "text/plain": [
       "range(0, 10)"
      ]
     },
     "execution_count": 8,
     "metadata": {},
     "output_type": "execute_result"
    }
   ],
   "source": [
    "range(0,10)"
   ]
  },
  {
   "cell_type": "code",
   "execution_count": 9,
   "metadata": {},
   "outputs": [
    {
     "data": {
      "text/plain": [
       "[0, 1, 2, 3, 4, 5, 6, 7, 8, 9]"
      ]
     },
     "execution_count": 9,
     "metadata": {},
     "output_type": "execute_result"
    }
   ],
   "source": [
    "list(range(0,10))\n"
   ]
  },
  {
   "cell_type": "code",
   "execution_count": 11,
   "metadata": {},
   "outputs": [
    {
     "name": "stdout",
     "output_type": "stream",
     "text": [
      "Its zero\n"
     ]
    }
   ],
   "source": [
    "x = 10\n",
    "if x==10:print(\"Its zero\")"
   ]
  },
  {
   "cell_type": "code",
   "execution_count": 13,
   "metadata": {},
   "outputs": [
    {
     "name": "stdout",
     "output_type": "stream",
     "text": [
      "Jython\n"
     ]
    }
   ],
   "source": [
    "if x != 10:\n",
    "    print(\"Python\")\n",
    "else:\n",
    "    print(\"Jython\")"
   ]
  },
  {
   "cell_type": "code",
   "execution_count": 23,
   "metadata": {},
   "outputs": [
    {
     "name": "stdout",
     "output_type": "stream",
     "text": [
      "-5 number is not positive number\n"
     ]
    }
   ],
   "source": [
    "x = -5\n",
    "if x < 0:\n",
    "    print(\"%s number is not positive number\"%x)\n",
    "elif x%2 == 0:\n",
    "    print(\"The given number %s is even \"%x)\n",
    "else:\n",
    "    print(\"given number %s is odd \"%x)"
   ]
  },
  {
   "cell_type": "code",
   "execution_count": 34,
   "metadata": {},
   "outputs": [
    {
     "name": "stdout",
     "output_type": "stream",
     "text": [
      "iteration 6\n",
      "iteration 5\n",
      "iteration 4\n",
      "iteration 3\n",
      "iteration 2\n",
      "iteration 1\n"
     ]
    }
   ],
   "source": [
    "#iterates untile condition bacome false\n",
    "x = 6\n",
    "while x > 0:\n",
    "    print(\"iteration %s\"%x)\n",
    "    x -= 1"
   ]
  },
  {
   "cell_type": "code",
   "execution_count": 33,
   "metadata": {},
   "outputs": [
    {
     "data": {
      "text/plain": [
       "12"
      ]
     },
     "execution_count": 33,
     "metadata": {},
     "output_type": "execute_result"
    }
   ],
   "source": [
    "x"
   ]
  },
  {
   "cell_type": "code",
   "execution_count": null,
   "metadata": {},
   "outputs": [],
   "source": []
  }
 ],
 "metadata": {
  "kernelspec": {
   "display_name": "Python 3",
   "language": "python",
   "name": "python3"
  },
  "language_info": {
   "codemirror_mode": {
    "name": "ipython",
    "version": 3
   },
   "file_extension": ".py",
   "mimetype": "text/x-python",
   "name": "python",
   "nbconvert_exporter": "python",
   "pygments_lexer": "ipython3",
   "version": "3.7.9"
  }
 },
 "nbformat": 4,
 "nbformat_minor": 4
}
